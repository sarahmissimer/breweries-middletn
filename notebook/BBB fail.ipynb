{
 "cells": [
  {
   "cell_type": "code",
   "execution_count": 4,
   "id": "34dac905",
   "metadata": {},
   "outputs": [],
   "source": [
    "import pandas as pd\n",
    "import numpy as np\n",
    "import matplotlib.pyplot as plt\n",
    "import seaborn as sns\n",
    "import requests\n",
    "from bs4 import BeautifulSoup as BS\n",
    "from csv import reader\n",
    "from lxml import html \n",
    "from time import sleep\n",
    "from random import randint\n",
    "\n",
    "%matplotlib inline"
   ]
  },
  {
   "cell_type": "code",
   "execution_count": 2,
   "id": "a5b5f049",
   "metadata": {},
   "outputs": [],
   "source": [
    "URL = \"https://www.bbb.org/us/tn/nashville/profile/brewers/jackalope-brewing-company-0573-37113394\"\n",
    "page = requests.get(URL)"
   ]
  },
  {
   "cell_type": "code",
   "execution_count": 3,
   "id": "f2aa2c91",
   "metadata": {},
   "outputs": [],
   "source": [
    "URL = 'https://www.bbb.org/us/tn/nashville/profile/brewers/jackalope-brewing-company-0573-37113394'\n",
    "\n",
    "headers = {\n",
    "    'User-Agent': 'Mozilla/5.0 (X11; Ubuntu; Linux x86_64; rv:105.0) Gecko/20100101 Firefox/105.0'\n",
    "}\n",
    "\n",
    "response = requests.get(URL, headers = headers)"
   ]
  },
  {
   "cell_type": "code",
   "execution_count": null,
   "id": "12e3624f",
   "metadata": {},
   "outputs": [],
   "source": []
  },
  {
   "cell_type": "code",
   "execution_count": 10,
   "id": "7f7087b1",
   "metadata": {},
   "outputs": [],
   "source": [
    "brewery_name = []\n",
    "brewery_open =[]"
   ]
  },
  {
   "cell_type": "code",
   "execution_count": 11,
   "id": "ee54b73d",
   "metadata": {},
   "outputs": [],
   "source": [
    "pages = np.arange(1, 77, 15)"
   ]
  },
  {
   "cell_type": "code",
   "execution_count": 16,
   "id": "15663f95",
   "metadata": {},
   "outputs": [],
   "source": [
    "for page in pages:\n",
    "    page = requests.get(f'https://www.bbb.org/us/tn/nashville/profile/brewers/'+str(page)+'')\n",
    "    tree = html.fromstring(response.content)\n",
    "    brewery_data = tree.xpath('//*[@id=\"content\"]/div[1]/div/header/div/div[2]/h1/span[3]/text()')\n",
    "    sleep(randint(2,8))\n",
    "    for store in brewery_data:\n",
    "        name = tree.xpath('//*[@id=\"content\"]/div[1]/div/header/div/div[2]/h1/span[3]/text()')\n",
    "        brewery_name.append(name)"
   ]
  },
  {
   "cell_type": "code",
   "execution_count": 17,
   "id": "a74c80e5",
   "metadata": {},
   "outputs": [],
   "source": [
    "brewery_list = pd.DataFrame({\"Brewery Name\": brewery_name})"
   ]
  },
  {
   "cell_type": "code",
   "execution_count": 18,
   "id": "c78de4f4",
   "metadata": {},
   "outputs": [
    {
     "data": {
      "text/html": [
       "<div>\n",
       "<style scoped>\n",
       "    .dataframe tbody tr th:only-of-type {\n",
       "        vertical-align: middle;\n",
       "    }\n",
       "\n",
       "    .dataframe tbody tr th {\n",
       "        vertical-align: top;\n",
       "    }\n",
       "\n",
       "    .dataframe thead th {\n",
       "        text-align: right;\n",
       "    }\n",
       "</style>\n",
       "<table border=\"1\" class=\"dataframe\">\n",
       "  <thead>\n",
       "    <tr style=\"text-align: right;\">\n",
       "      <th></th>\n",
       "      <th>Brewery Name</th>\n",
       "    </tr>\n",
       "  </thead>\n",
       "  <tbody>\n",
       "    <tr>\n",
       "      <th>0</th>\n",
       "      <td>[Jackalope Brewing Company]</td>\n",
       "    </tr>\n",
       "    <tr>\n",
       "      <th>1</th>\n",
       "      <td>[Jackalope Brewing Company]</td>\n",
       "    </tr>\n",
       "    <tr>\n",
       "      <th>2</th>\n",
       "      <td>[Jackalope Brewing Company]</td>\n",
       "    </tr>\n",
       "    <tr>\n",
       "      <th>3</th>\n",
       "      <td>[Jackalope Brewing Company]</td>\n",
       "    </tr>\n",
       "    <tr>\n",
       "      <th>4</th>\n",
       "      <td>[Jackalope Brewing Company]</td>\n",
       "    </tr>\n",
       "    <tr>\n",
       "      <th>5</th>\n",
       "      <td>[Jackalope Brewing Company]</td>\n",
       "    </tr>\n",
       "    <tr>\n",
       "      <th>6</th>\n",
       "      <td>[Jackalope Brewing Company]</td>\n",
       "    </tr>\n",
       "    <tr>\n",
       "      <th>7</th>\n",
       "      <td>[Jackalope Brewing Company]</td>\n",
       "    </tr>\n",
       "    <tr>\n",
       "      <th>8</th>\n",
       "      <td>[Jackalope Brewing Company]</td>\n",
       "    </tr>\n",
       "    <tr>\n",
       "      <th>9</th>\n",
       "      <td>[Jackalope Brewing Company]</td>\n",
       "    </tr>\n",
       "    <tr>\n",
       "      <th>10</th>\n",
       "      <td>[Jackalope Brewing Company]</td>\n",
       "    </tr>\n",
       "    <tr>\n",
       "      <th>11</th>\n",
       "      <td>[Jackalope Brewing Company]</td>\n",
       "    </tr>\n",
       "  </tbody>\n",
       "</table>\n",
       "</div>"
      ],
      "text/plain": [
       "                   Brewery Name\n",
       "0   [Jackalope Brewing Company]\n",
       "1   [Jackalope Brewing Company]\n",
       "2   [Jackalope Brewing Company]\n",
       "3   [Jackalope Brewing Company]\n",
       "4   [Jackalope Brewing Company]\n",
       "5   [Jackalope Brewing Company]\n",
       "6   [Jackalope Brewing Company]\n",
       "7   [Jackalope Brewing Company]\n",
       "8   [Jackalope Brewing Company]\n",
       "9   [Jackalope Brewing Company]\n",
       "10  [Jackalope Brewing Company]\n",
       "11  [Jackalope Brewing Company]"
      ]
     },
     "execution_count": 18,
     "metadata": {},
     "output_type": "execute_result"
    }
   ],
   "source": [
    "brewery_list"
   ]
  },
  {
   "cell_type": "code",
   "execution_count": null,
   "id": "d4fe9181",
   "metadata": {},
   "outputs": [],
   "source": [
    "for x in names:\n",
    "    \n",
    "    "
   ]
  }
 ],
 "metadata": {
  "kernelspec": {
   "display_name": "Python 3 (ipykernel)",
   "language": "python",
   "name": "python3"
  },
  "language_info": {
   "codemirror_mode": {
    "name": "ipython",
    "version": 3
   },
   "file_extension": ".py",
   "mimetype": "text/x-python",
   "name": "python",
   "nbconvert_exporter": "python",
   "pygments_lexer": "ipython3",
   "version": "3.9.12"
  }
 },
 "nbformat": 4,
 "nbformat_minor": 5
}
