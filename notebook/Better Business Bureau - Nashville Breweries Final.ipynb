{
 "cells": [
  {
   "cell_type": "code",
   "execution_count": 2,
   "id": "96798f98",
   "metadata": {},
   "outputs": [],
   "source": [
    "import pandas as pd\n",
    "import numpy as np\n",
    "import matplotlib.pyplot as plt\n",
    "import seaborn as sns\n",
    "import requests\n",
    "from bs4 import BeautifulSoup as BS\n",
    "from csv import reader\n",
    "from lxml import html \n",
    "\n",
    "%matplotlib inline"
   ]
  },
  {
   "cell_type": "code",
   "execution_count": 3,
   "id": "0da046bc",
   "metadata": {},
   "outputs": [],
   "source": [
    "URL = \"https://www.bbb.org/us/tn/nashville/profile/brewers/jackalope-brewing-company-0573-37113394\"\n",
    "page = requests.get(URL)"
   ]
  },
  {
   "cell_type": "code",
   "execution_count": 4,
   "id": "dcc9dc24",
   "metadata": {},
   "outputs": [],
   "source": [
    "URL = 'https://www.bbb.org/us/tn/nashville/profile/brewers/jackalope-brewing-company-0573-37113394'\n",
    "\n",
    "headers = {\n",
    "    'User-Agent': 'Mozilla/5.0 (X11; Ubuntu; Linux x86_64; rv:105.0) Gecko/20100101 Firefox/105.0'\n",
    "}\n",
    "\n",
    "response = requests.get(URL, headers = headers)"
   ]
  },
  {
   "cell_type": "code",
   "execution_count": 5,
   "id": "536e9f3c",
   "metadata": {},
   "outputs": [],
   "source": [
    "tree = html.fromstring(response.content)"
   ]
  },
  {
   "cell_type": "code",
   "execution_count": 6,
   "id": "bbbf113a",
   "metadata": {},
   "outputs": [
    {
     "name": "stdout",
     "output_type": "stream",
     "text": [
      "<Element html at 0x1f6b479e950>\n"
     ]
    }
   ],
   "source": [
    "print(tree)"
   ]
  },
  {
   "cell_type": "code",
   "execution_count": 21,
   "id": "ce23bc6b",
   "metadata": {},
   "outputs": [
    {
     "data": {
      "text/plain": [
       "['5/21/2011']"
      ]
     },
     "execution_count": 21,
     "metadata": {},
     "output_type": "execute_result"
    }
   ],
   "source": [
    "jackalope1 = tree.xpath('//*[@id=\"content\"]/div[3]/div/div/div[1]/div/div/div/div[1]/dl/div[4]/dd/text()')\n",
    "jackalope1"
   ]
  },
  {
   "cell_type": "code",
   "execution_count": 22,
   "id": "5aa92b18",
   "metadata": {},
   "outputs": [
    {
     "data": {
      "text/plain": [
       "['Jackalope Brewing Company']"
      ]
     },
     "execution_count": 22,
     "metadata": {},
     "output_type": "execute_result"
    }
   ],
   "source": [
    "jackalope2 = tree.xpath('//*[@id=\"content\"]/div[1]/div/header/div/div[2]/h1/span[3]/text()')\n",
    "jackalope2"
   ]
  },
  {
   "cell_type": "code",
   "execution_count": 23,
   "id": "568913ac",
   "metadata": {},
   "outputs": [
    {
     "data": {
      "text/plain": [
       "['5/21/2011', 'Jackalope Brewing Company']"
      ]
     },
     "execution_count": 23,
     "metadata": {},
     "output_type": "execute_result"
    }
   ],
   "source": [
    "# option 1\n",
    "jackalope = jackalope1 + jackalope2\n",
    "jackalope"
   ]
  },
  {
   "cell_type": "code",
   "execution_count": 24,
   "id": "d035233d",
   "metadata": {},
   "outputs": [
    {
     "name": "stdout",
     "output_type": "stream",
     "text": [
      "['Jackalope Brewing Company', '5/21/2011']\n"
     ]
    }
   ],
   "source": [
    "#option 2\n",
    "for x in jackalope1:\n",
    "    jackalope2.append(x)\n",
    "    \n",
    "    \n",
    "print(jackalope2)"
   ]
  },
  {
   "cell_type": "code",
   "execution_count": null,
   "id": "1f8fd265",
   "metadata": {},
   "outputs": [],
   "source": []
  }
 ],
 "metadata": {
  "kernelspec": {
   "display_name": "Python 3 (ipykernel)",
   "language": "python",
   "name": "python3"
  },
  "language_info": {
   "codemirror_mode": {
    "name": "ipython",
    "version": 3
   },
   "file_extension": ".py",
   "mimetype": "text/x-python",
   "name": "python",
   "nbconvert_exporter": "python",
   "pygments_lexer": "ipython3",
   "version": "3.9.12"
  }
 },
 "nbformat": 4,
 "nbformat_minor": 5
}
