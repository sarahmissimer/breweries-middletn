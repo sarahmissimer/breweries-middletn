{
 "cells": [
  {
   "cell_type": "code",
   "execution_count": 1,
   "id": "c6138348",
   "metadata": {
    "scrolled": true
   },
   "outputs": [],
   "source": [
    "import pandas as pd\n",
    "import numpy as np\n",
    "import matplotlib.pyplot as plt\n",
    "import seaborn as sns\n",
    "import requests\n",
    "from bs4 import BeautifulSoup as BS\n",
    "from csv import reader\n",
    "from lxml import html \n",
    "# from selenium import webdriver\n",
    "\n",
    "%matplotlib inline"
   ]
  },
  {
   "cell_type": "code",
   "execution_count": 2,
   "id": "41026440",
   "metadata": {
    "scrolled": true
   },
   "outputs": [],
   "source": [
    "URL = \"https://www.bbb.org/us/tn/nashville/profile/brewers/jackalope-brewing-company-0573-37113394\"\n",
    "page = requests.get(URL)"
   ]
  },
  {
   "cell_type": "code",
   "execution_count": 3,
   "id": "1544463c",
   "metadata": {
    "scrolled": true
   },
   "outputs": [],
   "source": [
    "URL = 'https://www.bbb.org/us/tn/nashville/profile/brewers/jackalope-brewing-company-0573-37113394'\n",
    "\n",
    "headers = {\n",
    "    'User-Agent': 'Mozilla/5.0 (X11; Ubuntu; Linux x86_64; rv:105.0) Gecko/20100101 Firefox/105.0'\n",
    "}\n",
    "\n",
    "response = requests.get(URL, headers = headers)"
   ]
  },
  {
   "cell_type": "code",
   "execution_count": 4,
   "id": "4808b099",
   "metadata": {},
   "outputs": [
    {
     "name": "stdout",
     "output_type": "stream",
     "text": [
      "<Element html at 0x1ee566a4270>\n"
     ]
    }
   ],
   "source": [
    "tree = html.fromstring(response.content)\n",
    "print(tree)"
   ]
  },
  {
   "cell_type": "code",
   "execution_count": 16,
   "id": "79c263d2",
   "metadata": {},
   "outputs": [
    {
     "name": "stdout",
     "output_type": "stream",
     "text": [
      "['Yee-Haw Brewing Co.']\n"
     ]
    }
   ],
   "source": [
    "jackalope1 = tree.xpath('//*[@id=\"content\"]/div[3]/div/div/div[1]/div/div/div/div[1]/dl/div[4]/dd/text()')\n",
    "jackalope1\n",
    "\n",
    "jackalope2 = tree.xpath('//*[@id=\"content\"]/div[1]/div/header/div/div[2]/h1/span[3]/text()')\n",
    "jackalope2\n",
    "\n",
    "for x in jackalope1:\n",
    "    jackalope2.append(x)\n",
    "    \n",
    "    \n",
    "print(jackalope2)"
   ]
  },
  {
   "cell_type": "code",
   "execution_count": 6,
   "id": "a6c509f3",
   "metadata": {},
   "outputs": [],
   "source": [
    "URL = 'https://www.bbb.org/us/tn/nashville/profile/brewers/yee-haw-brewing-co-0573-37309754'\n",
    "\n",
    "headers = {\n",
    "    'User-Agent': 'Mozilla/5.0 (X11; Ubuntu; Linux x86_64; rv:105.0) Gecko/20100101 Firefox/105.0'\n",
    "}\n",
    "\n",
    "response = requests.get(URL, headers = headers)"
   ]
  },
  {
   "cell_type": "code",
   "execution_count": 7,
   "id": "a9ed112d",
   "metadata": {},
   "outputs": [
    {
     "name": "stdout",
     "output_type": "stream",
     "text": [
      "['3/13/2015', 'Jackalope Brewing Company']\n"
     ]
    }
   ],
   "source": [
    "yeehaw1 = tree.xpath('//*[@id=\"content\"]/div[1]/div/header/div/div[2]/h1/span[3]/text()')\n",
    "yeehaw1\n",
    "\n",
    "yeehaw2 = tree.xpath('//*[@id=\"content\"]/div[3]/div/div/div[2]/div/div[3]/div/div[1]/dl/div[2]/dd/text()')\n",
    "yeehaw2\n",
    "\n",
    "for x in yeehaw1:\n",
    "    yeehaw2.append(x)\n",
    "    \n",
    "    \n",
    "print(yeehaw2)"
   ]
  },
  {
   "cell_type": "code",
   "execution_count": 8,
   "id": "5f394a38",
   "metadata": {
    "scrolled": true
   },
   "outputs": [],
   "source": [
    "tree = html.fromstring(response.content)"
   ]
  },
  {
   "cell_type": "code",
   "execution_count": 9,
   "id": "9d42afdb",
   "metadata": {
    "scrolled": true
   },
   "outputs": [
    {
     "name": "stdout",
     "output_type": "stream",
     "text": [
      "<Element html at 0x1ee566c8d60>\n"
     ]
    }
   ],
   "source": [
    "print(tree)"
   ]
  },
  {
   "cell_type": "code",
   "execution_count": 10,
   "id": "e8a44ab4",
   "metadata": {
    "scrolled": true
   },
   "outputs": [],
   "source": [
    "# URL = ['https://www.bbb.org/us/tn/nashville/profile/brewers/jackalope-brewing-company-0573-37113394','https://www.bbb.org/us/tn/nashville/profile/brewers/yee-haw-brewing-co-0573-37309754']\n",
    "\n",
    "# for url in range(0,2):\n",
    "#     req = requests.get(URL[url])\n",
    "#     soup "
   ]
  },
  {
   "cell_type": "code",
   "execution_count": 11,
   "id": "ff1d36cd",
   "metadata": {
    "scrolled": true
   },
   "outputs": [
    {
     "data": {
      "text/plain": [
       "[]"
      ]
     },
     "execution_count": 11,
     "metadata": {},
     "output_type": "execute_result"
    }
   ],
   "source": [
    "jackalope1 = tree.xpath('//*[@id=\"content\"]/div[3]/div/div/div[1]/div/div/div/div[1]/dl/div[4]/dd/text()')\n",
    "jackalope1"
   ]
  },
  {
   "cell_type": "code",
   "execution_count": 12,
   "id": "91f09d8e",
   "metadata": {
    "scrolled": true
   },
   "outputs": [
    {
     "data": {
      "text/plain": [
       "['Yee-Haw Brewing Co.']"
      ]
     },
     "execution_count": 12,
     "metadata": {},
     "output_type": "execute_result"
    }
   ],
   "source": [
    "jackalope2 = tree.xpath('//*[@id=\"content\"]/div[1]/div/header/div/div[2]/h1/span[3]/text()')\n",
    "jackalope2"
   ]
  },
  {
   "cell_type": "code",
   "execution_count": 13,
   "id": "bc001314",
   "metadata": {
    "scrolled": true
   },
   "outputs": [
    {
     "data": {
      "text/plain": [
       "['Yee-Haw Brewing Co.']"
      ]
     },
     "execution_count": 13,
     "metadata": {},
     "output_type": "execute_result"
    }
   ],
   "source": [
    "# option 1\n",
    "jackalope = jackalope1 + jackalope2\n",
    "jackalope"
   ]
  },
  {
   "cell_type": "code",
   "execution_count": 14,
   "id": "0d426370",
   "metadata": {
    "scrolled": true
   },
   "outputs": [
    {
     "name": "stdout",
     "output_type": "stream",
     "text": [
      "['Yee-Haw Brewing Co.']\n"
     ]
    }
   ],
   "source": [
    "#option 2\n",
    "for x in jackalope1:\n",
    "    jackalope2.append(x)\n",
    "    \n",
    "    \n",
    "print(jackalope2)"
   ]
  },
  {
   "cell_type": "code",
   "execution_count": 15,
   "id": "8557026f",
   "metadata": {
    "scrolled": true
   },
   "outputs": [],
   "source": [
    "# URL_lst = ['https://www.bbb.org/us/tn/nashville/profile/brewers/jackalope-brewing-company-0573-37113394']\n",
    "# Outputs = []\n",
    "\n",
    "# driver = webdriver.Chrome(r'xxx\\chromedriver.exe')\n",
    "\n",
    "# for url in URL_lst:\n",
    "#     driver.get(url)\n",
    "#     for c in driver.find_element_by_xpath('//*[@id=\"content\"]/div[3]/div/div/div[1]/div/div/div/div[1]/dl/div[4]/dd/text()'):\n",
    "#        c.click()\n",
    "#     for e in (c.find_elements_by_expath('//*[@id=\"content\"]/div[1]/div/header/div/div[2]/h1/span[3]/text()')[0].text.split('\\n')):\n",
    "#         Outputs.append(e)\n",
    "        \n",
    "# print(Outputs)      "
   ]
  },
  {
   "cell_type": "code",
   "execution_count": null,
   "id": "d1c08645",
   "metadata": {
    "scrolled": true
   },
   "outputs": [],
   "source": []
  }
 ],
 "metadata": {
  "kernelspec": {
   "display_name": "Python 3 (ipykernel)",
   "language": "python",
   "name": "python3"
  },
  "language_info": {
   "codemirror_mode": {
    "name": "ipython",
    "version": 3
   },
   "file_extension": ".py",
   "mimetype": "text/x-python",
   "name": "python",
   "nbconvert_exporter": "python",
   "pygments_lexer": "ipython3",
   "version": "3.9.12"
  }
 },
 "nbformat": 4,
 "nbformat_minor": 5
}
