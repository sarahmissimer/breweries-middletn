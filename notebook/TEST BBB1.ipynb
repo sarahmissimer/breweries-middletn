{
 "cells": [
  {
   "cell_type": "code",
   "execution_count": 1,
   "id": "6394e525",
   "metadata": {},
   "outputs": [],
   "source": [
    "import pandas as pd\n",
    "import numpy as np\n",
    "import matplotlib.pyplot as plt\n",
    "import seaborn as sns\n",
    "import requests\n",
    "from bs4 import BeautifulSoup as BS\n",
    "from csv import reader\n",
    "from lxml import html \n",
    "# from selenium import webdriver\n",
    "\n",
    "%matplotlib inline"
   ]
  },
  {
   "cell_type": "code",
   "execution_count": 2,
   "id": "12de6333",
   "metadata": {},
   "outputs": [],
   "source": [
    "URL = \"https://www.bbb.org/us/tn/nashville/profile/brewers/jackalope-brewing-company-0573-37113394\"\n",
    "page = requests.get(URL)"
   ]
  },
  {
   "cell_type": "code",
   "execution_count": 6,
   "id": "5ec8a293",
   "metadata": {},
   "outputs": [],
   "source": [
    "URL = 'https://www.bbb.org/us/tn/nashville/profile/brewers/jackalope-brewing-company-0573-37113394'\n",
    "\n",
    "headers = {\n",
    "    'User-Agent': 'Mozilla/5.0 (X11; Ubuntu; Linux x86_64; rv:105.0) Gecko/20100101 Firefox/105.0'\n",
    "}\n",
    "\n",
    "response = requests.get(URL, headers = headers)"
   ]
  },
  {
   "cell_type": "code",
   "execution_count": 7,
   "id": "31572165",
   "metadata": {},
   "outputs": [
    {
     "name": "stdout",
     "output_type": "stream",
     "text": [
      "<Element html at 0x1d523fa48b0>\n"
     ]
    }
   ],
   "source": [
    "tree = html.fromstring(response.content)\n",
    "print(tree)"
   ]
  },
  {
   "cell_type": "code",
   "execution_count": 8,
   "id": "7d3654a7",
   "metadata": {},
   "outputs": [
    {
     "name": "stdout",
     "output_type": "stream",
     "text": [
      "['Jackalope Brewing Company', '5/21/2011']\n"
     ]
    }
   ],
   "source": [
    "jackalope1 = tree.xpath('//*[@id=\"content\"]/div[3]/div/div/div[1]/div/div/div/div[1]/dl/div[4]/dd/text()')\n",
    "jackalope1\n",
    "\n",
    "jackalope2 = tree.xpath('//*[@id=\"content\"]/div[1]/div/header/div/div[2]/h1/span[3]/text()')\n",
    "jackalope2\n",
    "\n",
    "for x in jackalope1:\n",
    "    jackalope2.append(x)\n",
    "    \n",
    "    \n",
    "print(jackalope2)"
   ]
  },
  {
   "cell_type": "code",
   "execution_count": 9,
   "id": "75211677",
   "metadata": {},
   "outputs": [],
   "source": [
    "URL = \"https://www.bbb.org/us/tn/nashville/profile/brewers/yee-haw-brewing-co-0573-37309754\"\n",
    "page = requests.get(URL)"
   ]
  },
  {
   "cell_type": "code",
   "execution_count": 10,
   "id": "72a129cc",
   "metadata": {},
   "outputs": [],
   "source": [
    "URL = 'https://www.bbb.org/us/tn/nashville/profile/brewers/yee-haw-brewing-co-0573-37309754'\n",
    "\n",
    "headers = {\n",
    "    'User-Agent': 'Mozilla/5.0 (X11; Ubuntu; Linux x86_64; rv:105.0) Gecko/20100101 Firefox/105.0'\n",
    "}\n",
    "\n",
    "response = requests.get(URL, headers = headers)"
   ]
  },
  {
   "cell_type": "code",
   "execution_count": 11,
   "id": "c38a5d1c",
   "metadata": {},
   "outputs": [
    {
     "name": "stdout",
     "output_type": "stream",
     "text": [
      "<Element html at 0x1d523fb4c70>\n"
     ]
    }
   ],
   "source": [
    "tree = html.fromstring(response.content)\n",
    "print(tree)"
   ]
  },
  {
   "cell_type": "code",
   "execution_count": 13,
   "id": "bd5e0f29",
   "metadata": {},
   "outputs": [
    {
     "name": "stdout",
     "output_type": "stream",
     "text": [
      "['Yee-Haw Brewing Co.', '7/20/2021']\n"
     ]
    }
   ],
   "source": [
    "yeehaw1 = tree.xpath('//*[@id=\"content\"]/div[1]/div/header/div/div[2]/h1/span[3]/text()')\n",
    "yeehaw1\n",
    "\n",
    "yeehaw2 = tree.xpath('//*[@id=\"content\"]/div[3]/div/div/div[2]/div/div[3]/div/div[1]/dl/div[2]/dd/text()')\n",
    "yeehaw2\n",
    "\n",
    "for x in yeehaw2:\n",
    "    yeehaw1.append(x)\n",
    "    \n",
    "    \n",
    "print(yeehaw1)"
   ]
  },
  {
   "cell_type": "code",
   "execution_count": 17,
   "id": "dfacacf3",
   "metadata": {},
   "outputs": [
    {
     "name": "stdout",
     "output_type": "stream",
     "text": [
      "<Element html at 0x1d523f8ae50>\n"
     ]
    }
   ],
   "source": [
    "URL = 'https://www.bbb.org/us/tn/nashville/profile/brewers/barrique-brewing-and-blending-0573-37255218'\n",
    "\n",
    "headers = {\n",
    "    'User-Agent': 'Mozilla/5.0 (X11; Ubuntu; Linux x86_64; rv:105.0) Gecko/20100101 Firefox/105.0'\n",
    "}\n",
    "\n",
    "response = requests.get(URL, headers = headers)\n",
    "\n",
    "tree = html.fromstring(response.content)\n",
    "print(tree)"
   ]
  },
  {
   "cell_type": "code",
   "execution_count": 18,
   "id": "b585e1fd",
   "metadata": {},
   "outputs": [
    {
     "name": "stdout",
     "output_type": "stream",
     "text": [
      "['Barrique Brewing And Blending', '8/19/2019']\n"
     ]
    }
   ],
   "source": [
    "barrique1 = tree.xpath('//*[@id=\"content\"]/div[1]/div/header/div/div[2]/h1/span[3]/text()')\n",
    "barrique1\n",
    "\n",
    "barrique2 = tree.xpath('//*[@id=\"content\"]/div[3]/div/div/div[2]/div/div[3]/div/div[1]/dl/div[2]/dd/text()')\n",
    "barrique2\n",
    "\n",
    "for x in barrique2:\n",
    "    barrique1.append(x)\n",
    "    \n",
    "    \n",
    "print(barrique1)"
   ]
  },
  {
   "cell_type": "code",
   "execution_count": 23,
   "id": "fb3455fe",
   "metadata": {},
   "outputs": [
    {
     "name": "stdout",
     "output_type": "stream",
     "text": [
      "<Element html at 0x1d523fdf8b0>\n"
     ]
    }
   ],
   "source": [
    "URL = 'https://www.bbb.org/us/tn/nashville/profile/brewers/the-black-abbey-brewing-company-llc-0573-37134327'\n",
    "\n",
    "headers = {\n",
    "    'User-Agent': 'Mozilla/5.0 (X11; Ubuntu; Linux x86_64; rv:105.0) Gecko/20100101 Firefox/105.0'\n",
    "}\n",
    "\n",
    "response = requests.get(URL, headers = headers)\n",
    "\n",
    "tree = html.fromstring(response.content)\n",
    "print(tree)"
   ]
  },
  {
   "cell_type": "code",
   "execution_count": 25,
   "id": "a90e0003",
   "metadata": {},
   "outputs": [
    {
     "name": "stdout",
     "output_type": "stream",
     "text": [
      "['The Black Abbey Brewing Company, LLC', '3/14/2011']\n"
     ]
    }
   ],
   "source": [
    "blackabbey1 = tree.xpath('//*[@id=\"content\"]/div[1]/div/header/div/div/h1/span[3]/text()')\n",
    "blackabbey1\n",
    "\n",
    "blackabbey2 = tree.xpath('//*[@id=\"content\"]/div[3]/div/div/div[2]/div/div[4]/div/div[1]/dl/div[4]/dd/text()')\n",
    "blackabbey2\n",
    "\n",
    "for x in blackabbey2:\n",
    "    blackabbey1.append(x)\n",
    "    \n",
    "    \n",
    "print(blackabbey1)"
   ]
  },
  {
   "cell_type": "code",
   "execution_count": 27,
   "id": "980150d7",
   "metadata": {},
   "outputs": [
    {
     "name": "stdout",
     "output_type": "stream",
     "text": [
      "<Element html at 0x1d523d08860>\n"
     ]
    }
   ],
   "source": [
    "URL = 'https://www.bbb.org/us/tn/nashville/profile/brewers/bearded-iris-brewing-company-llc-0573-37139546'\n",
    "\n",
    "headers = {\n",
    "    'User-Agent': 'Mozilla/5.0 (X11; Ubuntu; Linux x86_64; rv:105.0) Gecko/20100101 Firefox/105.0'\n",
    "}\n",
    "\n",
    "response = requests.get(URL, headers = headers)\n",
    "\n",
    "tree = html.fromstring(response.content)\n",
    "print(tree)"
   ]
  },
  {
   "cell_type": "code",
   "execution_count": 30,
   "id": "1782cbe1",
   "metadata": {},
   "outputs": [
    {
     "name": "stdout",
     "output_type": "stream",
     "text": [
      "['Bearded Iris Brewing Company, LLC', '7/28/2016']\n"
     ]
    }
   ],
   "source": [
    "bi1 = tree.xpath('//*[@id=\"content\"]/div[1]/div/header/div/div/h1/span[3]/text()')\n",
    "bi1\n",
    "\n",
    "bi2 = tree.xpath('//*[@id=\"content\"]/div[3]/div/div/div[2]/div/div[3]/div/div[1]/dl/div[2]/dd/text()')\n",
    "bi2\n",
    "\n",
    "for x in bi2:\n",
    "    bi1.append(x)\n",
    "    \n",
    "    \n",
    "print(bi1)"
   ]
  },
  {
   "cell_type": "code",
   "execution_count": null,
   "id": "84a53d6f",
   "metadata": {},
   "outputs": [],
   "source": [
    "URL = 'https://www.bbb.org/us/tn/nashville/profile/brewers/the-black-abbey-brewing-company-llc-0573-37134327'\n",
    "\n",
    "headers = {\n",
    "    'User-Agent': 'Mozilla/5.0 (X11; Ubuntu; Linux x86_64; rv:105.0) Gecko/20100101 Firefox/105.0'\n",
    "}\n",
    "\n",
    "response = requests.get(URL, headers = headers)\n",
    "\n",
    "tree = html.fromstring(response.content)\n",
    "print(tree)"
   ]
  },
  {
   "cell_type": "code",
   "execution_count": null,
   "id": "9bdc6e0e",
   "metadata": {},
   "outputs": [],
   "source": [
    "blackabbey1 = tree.xpath('//*[@id=\"content\"]/div[1]/div/header/div/div/h1/span[3]/text()')\n",
    "blackabbey1\n",
    "\n",
    "blackabbey2 = tree.xpath('//*[@id=\"content\"]/div[3]/div/div/div[2]/div/div[4]/div/div[1]/dl/div[4]/dd/text()')\n",
    "blackabbey2\n",
    "\n",
    "for x in blackabbey2:\n",
    "    blackabbey1.append(x)\n",
    "    \n",
    "    \n",
    "print(blackabbey1)"
   ]
  },
  {
   "cell_type": "code",
   "execution_count": null,
   "id": "12609065",
   "metadata": {},
   "outputs": [],
   "source": [
    "URL = 'https://www.bbb.org/us/tn/nashville/profile/brewers/the-black-abbey-brewing-company-llc-0573-37134327'\n",
    "\n",
    "headers = {\n",
    "    'User-Agent': 'Mozilla/5.0 (X11; Ubuntu; Linux x86_64; rv:105.0) Gecko/20100101 Firefox/105.0'\n",
    "}\n",
    "\n",
    "response = requests.get(URL, headers = headers)\n",
    "\n",
    "tree = html.fromstring(response.content)\n",
    "print(tree)"
   ]
  },
  {
   "cell_type": "code",
   "execution_count": null,
   "id": "2f41290d",
   "metadata": {},
   "outputs": [],
   "source": [
    "blackabbey1 = tree.xpath('//*[@id=\"content\"]/div[1]/div/header/div/div/h1/span[3]/text()')\n",
    "blackabbey1\n",
    "\n",
    "blackabbey2 = tree.xpath('//*[@id=\"content\"]/div[3]/div/div/div[2]/div/div[4]/div/div[1]/dl/div[4]/dd/text()')\n",
    "blackabbey2\n",
    "\n",
    "for x in blackabbey2:\n",
    "    blackabbey1.append(x)\n",
    "    \n",
    "    \n",
    "print(blackabbey1)"
   ]
  },
  {
   "cell_type": "code",
   "execution_count": null,
   "id": "07078ad7",
   "metadata": {},
   "outputs": [],
   "source": [
    "URL = 'https://www.bbb.org/us/tn/nashville/profile/brewers/the-black-abbey-brewing-company-llc-0573-37134327'\n",
    "\n",
    "headers = {\n",
    "    'User-Agent': 'Mozilla/5.0 (X11; Ubuntu; Linux x86_64; rv:105.0) Gecko/20100101 Firefox/105.0'\n",
    "}\n",
    "\n",
    "response = requests.get(URL, headers = headers)\n",
    "\n",
    "tree = html.fromstring(response.content)\n",
    "print(tree)"
   ]
  },
  {
   "cell_type": "code",
   "execution_count": null,
   "id": "5d7ee6b2",
   "metadata": {},
   "outputs": [],
   "source": [
    "blackabbey1 = tree.xpath('//*[@id=\"content\"]/div[1]/div/header/div/div/h1/span[3]/text()')\n",
    "blackabbey1\n",
    "\n",
    "blackabbey2 = tree.xpath('//*[@id=\"content\"]/div[3]/div/div/div[2]/div/div[4]/div/div[1]/dl/div[4]/dd/text()')\n",
    "blackabbey2\n",
    "\n",
    "for x in blackabbey2:\n",
    "    blackabbey1.append(x)\n",
    "    \n",
    "    \n",
    "print(blackabbey1)"
   ]
  },
  {
   "cell_type": "code",
   "execution_count": null,
   "id": "c9bbff08",
   "metadata": {},
   "outputs": [],
   "source": [
    "URL = 'https://www.bbb.org/us/tn/nashville/profile/brewers/the-black-abbey-brewing-company-llc-0573-37134327'\n",
    "\n",
    "headers = {\n",
    "    'User-Agent': 'Mozilla/5.0 (X11; Ubuntu; Linux x86_64; rv:105.0) Gecko/20100101 Firefox/105.0'\n",
    "}\n",
    "\n",
    "response = requests.get(URL, headers = headers)\n",
    "\n",
    "tree = html.fromstring(response.content)\n",
    "print(tree)"
   ]
  },
  {
   "cell_type": "code",
   "execution_count": null,
   "id": "f74fe48e",
   "metadata": {},
   "outputs": [],
   "source": [
    "blackabbey1 = tree.xpath('//*[@id=\"content\"]/div[1]/div/header/div/div/h1/span[3]/text()')\n",
    "blackabbey1\n",
    "\n",
    "blackabbey2 = tree.xpath('//*[@id=\"content\"]/div[3]/div/div/div[2]/div/div[4]/div/div[1]/dl/div[4]/dd/text()')\n",
    "blackabbey2\n",
    "\n",
    "for x in blackabbey2:\n",
    "    blackabbey1.append(x)\n",
    "    \n",
    "    \n",
    "print(blackabbey1)"
   ]
  },
  {
   "cell_type": "code",
   "execution_count": null,
   "id": "605b1d5b",
   "metadata": {},
   "outputs": [],
   "source": [
    "URL = 'https://www.bbb.org/us/tn/nashville/profile/brewers/the-black-abbey-brewing-company-llc-0573-37134327'\n",
    "\n",
    "headers = {\n",
    "    'User-Agent': 'Mozilla/5.0 (X11; Ubuntu; Linux x86_64; rv:105.0) Gecko/20100101 Firefox/105.0'\n",
    "}\n",
    "\n",
    "response = requests.get(URL, headers = headers)\n",
    "\n",
    "tree = html.fromstring(response.content)\n",
    "print(tree)"
   ]
  },
  {
   "cell_type": "code",
   "execution_count": null,
   "id": "d936737b",
   "metadata": {},
   "outputs": [],
   "source": [
    "blackabbey1 = tree.xpath('//*[@id=\"content\"]/div[1]/div/header/div/div/h1/span[3]/text()')\n",
    "blackabbey1\n",
    "\n",
    "blackabbey2 = tree.xpath('//*[@id=\"content\"]/div[3]/div/div/div[2]/div/div[4]/div/div[1]/dl/div[4]/dd/text()')\n",
    "blackabbey2\n",
    "\n",
    "for x in blackabbey2:\n",
    "    blackabbey1.append(x)\n",
    "    \n",
    "    \n",
    "print(blackabbey1)"
   ]
  },
  {
   "cell_type": "code",
   "execution_count": null,
   "id": "b78ef424",
   "metadata": {},
   "outputs": [],
   "source": [
    "URL = 'https://www.bbb.org/us/tn/nashville/profile/brewers/the-black-abbey-brewing-company-llc-0573-37134327'\n",
    "\n",
    "headers = {\n",
    "    'User-Agent': 'Mozilla/5.0 (X11; Ubuntu; Linux x86_64; rv:105.0) Gecko/20100101 Firefox/105.0'\n",
    "}\n",
    "\n",
    "response = requests.get(URL, headers = headers)\n",
    "\n",
    "tree = html.fromstring(response.content)\n",
    "print(tree)"
   ]
  },
  {
   "cell_type": "code",
   "execution_count": null,
   "id": "58d2359c",
   "metadata": {},
   "outputs": [],
   "source": [
    "blackabbey1 = tree.xpath('//*[@id=\"content\"]/div[1]/div/header/div/div/h1/span[3]/text()')\n",
    "blackabbey1\n",
    "\n",
    "blackabbey2 = tree.xpath('//*[@id=\"content\"]/div[3]/div/div/div[2]/div/div[4]/div/div[1]/dl/div[4]/dd/text()')\n",
    "blackabbey2\n",
    "\n",
    "for x in blackabbey2:\n",
    "    blackabbey1.append(x)\n",
    "    \n",
    "    \n",
    "print(blackabbey1)"
   ]
  },
  {
   "cell_type": "code",
   "execution_count": null,
   "id": "9301b609",
   "metadata": {},
   "outputs": [],
   "source": [
    "URL = 'https://www.bbb.org/us/tn/nashville/profile/brewers/the-black-abbey-brewing-company-llc-0573-37134327'\n",
    "\n",
    "headers = {\n",
    "    'User-Agent': 'Mozilla/5.0 (X11; Ubuntu; Linux x86_64; rv:105.0) Gecko/20100101 Firefox/105.0'\n",
    "}\n",
    "\n",
    "response = requests.get(URL, headers = headers)\n",
    "\n",
    "tree = html.fromstring(response.content)\n",
    "print(tree)"
   ]
  },
  {
   "cell_type": "code",
   "execution_count": null,
   "id": "c4f833a5",
   "metadata": {},
   "outputs": [],
   "source": [
    "blackabbey1 = tree.xpath('//*[@id=\"content\"]/div[1]/div/header/div/div/h1/span[3]/text()')\n",
    "blackabbey1\n",
    "\n",
    "blackabbey2 = tree.xpath('//*[@id=\"content\"]/div[3]/div/div/div[2]/div/div[4]/div/div[1]/dl/div[4]/dd/text()')\n",
    "blackabbey2\n",
    "\n",
    "for x in blackabbey2:\n",
    "    blackabbey1.append(x)\n",
    "    \n",
    "    \n",
    "print(blackabbey1)"
   ]
  },
  {
   "cell_type": "code",
   "execution_count": 26,
   "id": "1ee5702f",
   "metadata": {},
   "outputs": [
    {
     "data": {
      "text/plain": [
       "['Yee-Haw Brewing Co.',\n",
       " '7/20/2021',\n",
       " 'Jackalope Brewing Company',\n",
       " '5/21/2011',\n",
       " 'Barrique Brewing And Blending',\n",
       " '8/19/2019',\n",
       " 'The Black Abbey Brewing Company, LLC',\n",
       " '3/14/2011']"
      ]
     },
     "execution_count": 26,
     "metadata": {},
     "output_type": "execute_result"
    }
   ],
   "source": [
    "bbb_df = yeehaw1 + jackalope2 + barrique1 + blackabbey1\n",
    "bbb_df"
   ]
  },
  {
   "cell_type": "code",
   "execution_count": null,
   "id": "cff8db75",
   "metadata": {},
   "outputs": [],
   "source": []
  }
 ],
 "metadata": {
  "kernelspec": {
   "display_name": "Python 3 (ipykernel)",
   "language": "python",
   "name": "python3"
  },
  "language_info": {
   "codemirror_mode": {
    "name": "ipython",
    "version": 3
   },
   "file_extension": ".py",
   "mimetype": "text/x-python",
   "name": "python",
   "nbconvert_exporter": "python",
   "pygments_lexer": "ipython3",
   "version": "3.9.12"
  }
 },
 "nbformat": 4,
 "nbformat_minor": 5
}
