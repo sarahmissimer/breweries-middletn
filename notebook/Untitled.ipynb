{
 "cells": [
  {
   "cell_type": "code",
   "execution_count": 1,
   "id": "343f377c",
   "metadata": {},
   "outputs": [],
   "source": [
    "import pandas as pd\n",
    "import numpy as np\n",
    "import matplotlib.pyplot as plt\n",
    "import seaborn as sns\n",
    "import requests\n",
    "from bs4 import BeautifulSoup as BS\n",
    "from csv import reader\n",
    "from lxml import html \n",
    "# from selenium import webdriver\n",
    "\n",
    "%matplotlib inline"
   ]
  },
  {
   "cell_type": "code",
   "execution_count": 2,
   "id": "29f944b7",
   "metadata": {},
   "outputs": [],
   "source": [
    "URL = \"https://www.bbb.org/us/tn/nashville/profile/brewers/jackalope-brewing-company-0573-37113394\"\n",
    "page = requests.get(URL)"
   ]
  },
  {
   "cell_type": "code",
   "execution_count": 6,
   "id": "7424bb9c",
   "metadata": {},
   "outputs": [],
   "source": [
    "URL = 'https://www.bbb.org/us/tn/nashville/profile/brewers/jackalope-brewing-company-0573-37113394'\n",
    "\n",
    "headers = {\n",
    "    'User-Agent': 'Mozilla/5.0 (X11; Ubuntu; Linux x86_64; rv:105.0) Gecko/20100101 Firefox/105.0'\n",
    "}\n",
    "\n",
    "response = requests.get(URL, headers = headers)"
   ]
  },
  {
   "cell_type": "code",
   "execution_count": 7,
   "id": "718a007d",
   "metadata": {},
   "outputs": [
    {
     "name": "stdout",
     "output_type": "stream",
     "text": [
      "<Element html at 0x1d523fa48b0>\n"
     ]
    }
   ],
   "source": [
    "tree = html.fromstring(response.content)\n",
    "print(tree)"
   ]
  },
  {
   "cell_type": "code",
   "execution_count": 8,
   "id": "3f7a21d3",
   "metadata": {},
   "outputs": [
    {
     "name": "stdout",
     "output_type": "stream",
     "text": [
      "['Jackalope Brewing Company', '5/21/2011']\n"
     ]
    }
   ],
   "source": [
    "jackalope1 = tree.xpath('//*[@id=\"content\"]/div[3]/div/div/div[1]/div/div/div/div[1]/dl/div[4]/dd/text()')\n",
    "jackalope1\n",
    "\n",
    "jackalope2 = tree.xpath('//*[@id=\"content\"]/div[1]/div/header/div/div[2]/h1/span[3]/text()')\n",
    "jackalope2\n",
    "\n",
    "for x in jackalope1:\n",
    "    jackalope2.append(x)\n",
    "    \n",
    "    \n",
    "print(jackalope2)"
   ]
  },
  {
   "cell_type": "code",
   "execution_count": 9,
   "id": "d2ff0205",
   "metadata": {},
   "outputs": [],
   "source": [
    "URL = \"https://www.bbb.org/us/tn/nashville/profile/brewers/yee-haw-brewing-co-0573-37309754\"\n",
    "page = requests.get(URL)"
   ]
  },
  {
   "cell_type": "code",
   "execution_count": 10,
   "id": "648bfbff",
   "metadata": {},
   "outputs": [],
   "source": [
    "URL = 'https://www.bbb.org/us/tn/nashville/profile/brewers/yee-haw-brewing-co-0573-37309754'\n",
    "\n",
    "headers = {\n",
    "    'User-Agent': 'Mozilla/5.0 (X11; Ubuntu; Linux x86_64; rv:105.0) Gecko/20100101 Firefox/105.0'\n",
    "}\n",
    "\n",
    "response = requests.get(URL, headers = headers)"
   ]
  },
  {
   "cell_type": "code",
   "execution_count": 11,
   "id": "5495f5fd",
   "metadata": {},
   "outputs": [
    {
     "name": "stdout",
     "output_type": "stream",
     "text": [
      "<Element html at 0x1d523fb4c70>\n"
     ]
    }
   ],
   "source": [
    "tree = html.fromstring(response.content)\n",
    "print(tree)"
   ]
  },
  {
   "cell_type": "code",
   "execution_count": 13,
   "id": "2fea1733",
   "metadata": {},
   "outputs": [
    {
     "name": "stdout",
     "output_type": "stream",
     "text": [
      "['Yee-Haw Brewing Co.', '7/20/2021']\n"
     ]
    }
   ],
   "source": [
    "yeehaw1 = tree.xpath('//*[@id=\"content\"]/div[1]/div/header/div/div[2]/h1/span[3]/text()')\n",
    "yeehaw1\n",
    "\n",
    "yeehaw2 = tree.xpath('//*[@id=\"content\"]/div[3]/div/div/div[2]/div/div[3]/div/div[1]/dl/div[2]/dd/text()')\n",
    "yeehaw2\n",
    "\n",
    "for x in yeehaw2:\n",
    "    yeehaw1.append(x)\n",
    "    \n",
    "    \n",
    "print(yeehaw1)"
   ]
  },
  {
   "cell_type": "code",
   "execution_count": null,
   "id": "e5d6c2b5",
   "metadata": {},
   "outputs": [],
   "source": []
  }
 ],
 "metadata": {
  "kernelspec": {
   "display_name": "Python 3 (ipykernel)",
   "language": "python",
   "name": "python3"
  },
  "language_info": {
   "codemirror_mode": {
    "name": "ipython",
    "version": 3
   },
   "file_extension": ".py",
   "mimetype": "text/x-python",
   "name": "python",
   "nbconvert_exporter": "python",
   "pygments_lexer": "ipython3",
   "version": "3.9.12"
  }
 },
 "nbformat": 4,
 "nbformat_minor": 5
}
